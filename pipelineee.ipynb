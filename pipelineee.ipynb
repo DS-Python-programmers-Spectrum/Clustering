{
 "cells": [
  {
   "cell_type": "code",
   "execution_count": 2,
   "id": "49ec433b-5fb7-46e3-b8ae-7f5bfa6241b3",
   "metadata": {},
   "outputs": [
    {
     "name": "stdout",
     "output_type": "stream",
     "text": [
      "   CustomerID   Genre  Age  Annual Income (k$)  Spending Score (1-100)  \\\n",
      "0           1    Male   19                  15                      39   \n",
      "1           2    Male   21                  15                      81   \n",
      "2           3  Female   20                  16                       6   \n",
      "3           4  Female   23                  16                      77   \n",
      "4           5  Female   31                  17                      40   \n",
      "5           6  Female   22                  17                      76   \n",
      "6           7  Female   35                  18                       6   \n",
      "7           8  Female   23                  18                      94   \n",
      "8           9    Male   64                  19                       3   \n",
      "9          10  Female   30                  19                      72   \n",
      "\n",
      "   Cluster  \n",
      "0        4  \n",
      "1        2  \n",
      "2        4  \n",
      "3        2  \n",
      "4        4  \n",
      "5        2  \n",
      "6        4  \n",
      "7        2  \n",
      "8        4  \n",
      "9        2  \n"
     ]
    },
    {
     "name": "stderr",
     "output_type": "stream",
     "text": [
      "C:\\Users\\PYTHON\\anaconda3\\Lib\\site-packages\\sklearn\\cluster\\_kmeans.py:1446: UserWarning: KMeans is known to have a memory leak on Windows with MKL, when there are less chunks than available threads. You can avoid it by setting the environment variable OMP_NUM_THREADS=1.\n",
      "  warnings.warn(\n"
     ]
    }
   ],
   "source": [
    "import pandas as pd\n",
    "from sklearn.cluster import KMeans\n",
    "from sklearn.preprocessing import StandardScaler\n",
    "from sklearn.pipeline import Pipeline\n",
    "\n",
    "# Example dataset\n",
    "data = pd.read_csv(\"Mall_Customers.csv\")\n",
    "\n",
    "# Select features\n",
    "X = data[['Annual Income (k$)', 'Spending Score (1-100)']]\n",
    "\n",
    "# Build pipeline\n",
    "kmeans_pipeline = Pipeline([\n",
    "    ('scaler', StandardScaler()),   # Step 1: Scale features\n",
    "    ('kmeans', KMeans(n_clusters=5, random_state=42))  # Step 2: KMeans\n",
    "])\n",
    "\n",
    "# Fit pipeline\n",
    "kmeans_pipeline.fit(X)\n",
    "\n",
    "# Get cluster labels\n",
    "labels = kmeans_pipeline.named_steps['kmeans'].labels_\n",
    "\n",
    "# Add to dataset\n",
    "data['Cluster'] = labels\n",
    "\n",
    "print(data.head(10))\n"
   ]
  },
  {
   "cell_type": "code",
   "execution_count": null,
   "id": "b8bbb85d-a37f-496f-b8cc-c7f4b576cb43",
   "metadata": {},
   "outputs": [],
   "source": []
  }
 ],
 "metadata": {
  "kernelspec": {
   "display_name": "Python 3 (ipykernel)",
   "language": "python",
   "name": "python3"
  },
  "language_info": {
   "codemirror_mode": {
    "name": "ipython",
    "version": 3
   },
   "file_extension": ".py",
   "mimetype": "text/x-python",
   "name": "python",
   "nbconvert_exporter": "python",
   "pygments_lexer": "ipython3",
   "version": "3.12.3"
  }
 },
 "nbformat": 4,
 "nbformat_minor": 5
}
